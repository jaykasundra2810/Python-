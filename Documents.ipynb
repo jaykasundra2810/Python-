{
 "cells": [
  {
   "cell_type": "markdown",
   "id": "17ac36e5",
   "metadata": {},
   "source": [
    "# Python Learning   \n"
   ]
  },
  {
   "cell_type": "markdown",
   "id": "8736f5d0",
   "metadata": {},
   "source": [
    "## First day\n"
   ]
  },
  {
   "cell_type": "code",
   "execution_count": 3,
   "id": "de5ebef9",
   "metadata": {},
   "outputs": [
    {
     "data": {
      "text/plain": [
       "float"
      ]
     },
     "execution_count": 3,
     "metadata": {},
     "output_type": "execute_result"
    }
   ],
   "source": [
    "type(10.000088880998487)\n"
   ]
  },
  {
   "cell_type": "code",
   "execution_count": 4,
   "id": "67ff8f40",
   "metadata": {},
   "outputs": [],
   "source": [
    "a=5"
   ]
  },
  {
   "cell_type": "code",
   "execution_count": 5,
   "id": "c7475b31",
   "metadata": {},
   "outputs": [
    {
     "data": {
      "text/plain": [
       "int"
      ]
     },
     "execution_count": 5,
     "metadata": {},
     "output_type": "execute_result"
    }
   ],
   "source": [
    "type(a)"
   ]
  },
  {
   "cell_type": "code",
   "execution_count": 6,
   "id": "d769ab4d",
   "metadata": {},
   "outputs": [],
   "source": [
    "b='fuck'"
   ]
  },
  {
   "cell_type": "code",
   "execution_count": 7,
   "id": "8c2e63a7",
   "metadata": {},
   "outputs": [
    {
     "data": {
      "text/plain": [
       "str"
      ]
     },
     "execution_count": 7,
     "metadata": {},
     "output_type": "execute_result"
    }
   ],
   "source": [
    "type(b)"
   ]
  },
  {
   "cell_type": "code",
   "execution_count": 8,
   "id": "56896ba2",
   "metadata": {},
   "outputs": [],
   "source": [
    "a=25\n",
    "b=35"
   ]
  },
  {
   "cell_type": "code",
   "execution_count": 9,
   "id": "648cb8b5",
   "metadata": {},
   "outputs": [
    {
     "name": "stdout",
     "output_type": "stream",
     "text": [
      "875\n",
      "25\n",
      "0.7142857142857143\n",
      "17.857142857142858\n"
     ]
    }
   ],
   "source": [
    "print(a*b)\n",
    "print(a%b) \n",
    "print(a/b)\n",
    "print((a%b)*(a/b))"
   ]
  },
  {
   "cell_type": "code",
   "execution_count": 11,
   "id": "dc881fe7",
   "metadata": {},
   "outputs": [],
   "source": [
    "a='jay'\n",
    "b='rhea'"
   ]
  },
  {
   "cell_type": "code",
   "execution_count": 12,
   "id": "f0f5206a",
   "metadata": {},
   "outputs": [
    {
     "name": "stdout",
     "output_type": "stream",
     "text": [
      "jay wants to fuck rhea\n"
     ]
    }
   ],
   "source": [
    "print(\"{} wants to fuck {}\".format(a,b))"
   ]
  },
  {
   "cell_type": "code",
   "execution_count": 17,
   "id": "5dae52d9",
   "metadata": {},
   "outputs": [
    {
     "name": "stdout",
     "output_type": "stream",
     "text": [
      "jay wants to fuck rhea hard\n"
     ]
    }
   ],
   "source": [
    "print(\"{a} wants to fuck {b} hard\".format(a=a,b=b))"
   ]
  },
  {
   "cell_type": "code",
   "execution_count": 18,
   "id": "42750e48",
   "metadata": {},
   "outputs": [
    {
     "data": {
      "text/plain": [
       "3"
      ]
     },
     "execution_count": 18,
     "metadata": {},
     "output_type": "execute_result"
    }
   ],
   "source": [
    "len(a)"
   ]
  },
  {
   "cell_type": "code",
   "execution_count": 19,
   "id": "0ed4e473",
   "metadata": {},
   "outputs": [
    {
     "data": {
      "text/plain": [
       "4"
      ]
     },
     "execution_count": 19,
     "metadata": {},
     "output_type": "execute_result"
    }
   ],
   "source": [
    "len(b)"
   ]
  },
  {
   "cell_type": "code",
   "execution_count": 20,
   "id": "f670f8c2",
   "metadata": {},
   "outputs": [
    {
     "data": {
      "text/plain": [
       "2"
      ]
     },
     "execution_count": 20,
     "metadata": {},
     "output_type": "execute_result"
    }
   ],
   "source": [
    "len('js')"
   ]
  },
  {
   "cell_type": "raw",
   "id": "51fd7732",
   "metadata": {},
   "source": []
  }
 ],
 "metadata": {
  "kernelspec": {
   "display_name": "Python 3",
   "language": "python",
   "name": "python3"
  },
  "language_info": {
   "codemirror_mode": {
    "name": "ipython",
    "version": 3
   },
   "file_extension": ".py",
   "mimetype": "text/x-python",
   "name": "python",
   "nbconvert_exporter": "python",
   "pygments_lexer": "ipython3",
   "version": "3.8.8"
  }
 },
 "nbformat": 4,
 "nbformat_minor": 5
}
