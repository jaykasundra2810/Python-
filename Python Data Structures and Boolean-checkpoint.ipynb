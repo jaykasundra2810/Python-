{
 "cells": [
  {
   "cell_type": "markdown",
   "id": "daecb3a9",
   "metadata": {},
   "source": [
    "# Python Data Structures and Boolean"
   ]
  },
  {
   "cell_type": "markdown",
   "id": "a5afce45",
   "metadata": {},
   "source": [
    "- Boolean\n",
    "- Boolean and Logical Operators\n",
    "- Lists\n",
    "- Comparison operators\n",
    "- Dictionaries\n",
    "- Tuples\n",
    "- Sets"
   ]
  },
  {
   "cell_type": "markdown",
   "id": "8185779c",
   "metadata": {},
   "source": [
    "## Boolean Variables"
   ]
  },
  {
   "cell_type": "markdown",
   "id": "9c5190be",
   "metadata": {},
   "source": [
    "Boolean values are the two constant objects False and True.\n",
    "\n",
    "They are used to represent truth values (other values can also be considered false or true).\n",
    "\n",
    "In numeric contexts (for example, when used as the argument to an arithmetic operator), they behave like the integers 0 and 1, respectively.\n",
    "\n",
    "The built-in function bool() can be used to cast any value to a Boolean, if the value can be interpreted as a truth value\n",
    "\n",
    "They are written as False and True, respectively."
   ]
  },
  {
   "cell_type": "code",
   "execution_count": 1,
   "id": "7ec3d467",
   "metadata": {},
   "outputs": [
    {
     "name": "stdout",
     "output_type": "stream",
     "text": [
      "True False\n"
     ]
    }
   ],
   "source": [
    "print(True, False)"
   ]
  },
  {
   "cell_type": "code",
   "execution_count": 2,
   "id": "8aafed42",
   "metadata": {},
   "outputs": [
    {
     "data": {
      "text/plain": [
       "bool"
      ]
     },
     "execution_count": 2,
     "metadata": {},
     "output_type": "execute_result"
    }
   ],
   "source": [
    "type(False)"
   ]
  },
  {
   "cell_type": "code",
   "execution_count": 10,
   "id": "1b3156d8",
   "metadata": {},
   "outputs": [],
   "source": [
    "str = 'abcd'"
   ]
  },
  {
   "cell_type": "code",
   "execution_count": 12,
   "id": "d22f596c",
   "metadata": {},
   "outputs": [
    {
     "data": {
      "text/plain": [
       "True"
      ]
     },
     "execution_count": 12,
     "metadata": {},
     "output_type": "execute_result"
    }
   ],
   "source": [
    "str.isalnum()"
   ]
  },
  {
   "cell_type": "code",
   "execution_count": 5,
   "id": "452e7d08",
   "metadata": {},
   "outputs": [
    {
     "ename": "AttributeError",
     "evalue": "'str' object has no attribute 'isalstr'",
     "output_type": "error",
     "traceback": [
      "\u001b[1;31m---------------------------------------------------------------------------\u001b[0m",
      "\u001b[1;31mAttributeError\u001b[0m                            Traceback (most recent call last)",
      "\u001b[1;32m<ipython-input-5-6e5b613b494d>\u001b[0m in \u001b[0;36m<module>\u001b[1;34m\u001b[0m\n\u001b[1;32m----> 1\u001b[1;33m \u001b[0mstr\u001b[0m\u001b[1;33m.\u001b[0m\u001b[0misalstr\u001b[0m\u001b[1;33m\u001b[0m\u001b[1;33m\u001b[0m\u001b[0m\n\u001b[0m",
      "\u001b[1;31mAttributeError\u001b[0m: 'str' object has no attribute 'isalstr'"
     ]
    }
   ],
   "source": [
    "str.isalstr"
   ]
  },
  {
   "cell_type": "code",
   "execution_count": 17,
   "id": "284c89c4",
   "metadata": {},
   "outputs": [
    {
     "name": "stdout",
     "output_type": "stream",
     "text": [
      "True\n",
      "True\n",
      "False\n",
      "False\n",
      "False\n",
      "True\n",
      "False\n",
      "True\n",
      "False\n"
     ]
    }
   ],
   "source": [
    "print(str.isalnum())\n",
    "print(str.isalpha())\n",
    "print(str.isdigit())\n",
    "print(str.istitle())\n",
    "print(str.isupper())\n",
    "print(str.islower())\n",
    "print(str.isspace())\n",
    "print(str.endswith('d'))\n",
    "print(str.startswith('H'))"
   ]
  },
  {
   "cell_type": "code",
   "execution_count": 13,
   "id": "ce3fe6b2",
   "metadata": {},
   "outputs": [
    {
     "data": {
      "text/plain": [
       "True"
      ]
     },
     "execution_count": 13,
     "metadata": {},
     "output_type": "execute_result"
    }
   ],
   "source": [
    "True and True"
   ]
  },
  {
   "cell_type": "code",
   "execution_count": 14,
   "id": "3e39e0b1",
   "metadata": {},
   "outputs": [
    {
     "data": {
      "text/plain": [
       "False"
      ]
     },
     "execution_count": 14,
     "metadata": {},
     "output_type": "execute_result"
    }
   ],
   "source": [
    "True and False"
   ]
  },
  {
   "cell_type": "code",
   "execution_count": 15,
   "id": "0394e5bf",
   "metadata": {},
   "outputs": [
    {
     "data": {
      "text/plain": [
       "True"
      ]
     },
     "execution_count": 15,
     "metadata": {},
     "output_type": "execute_result"
    }
   ],
   "source": [
    "True or False\n"
   ]
  },
  {
   "cell_type": "code",
   "execution_count": 18,
   "id": "74e84045",
   "metadata": {},
   "outputs": [],
   "source": [
    "str1 = 'Jay' \n",
    "str2 = '1234'"
   ]
  },
  {
   "cell_type": "code",
   "execution_count": 27,
   "id": "a9ba168d",
   "metadata": {},
   "outputs": [
    {
     "data": {
      "text/plain": [
       "False"
      ]
     },
     "execution_count": 27,
     "metadata": {},
     "output_type": "execute_result"
    }
   ],
   "source": [
    "str2.isalnum() and str1.islower() "
   ]
  },
  {
   "cell_type": "markdown",
   "id": "c24f1eb5",
   "metadata": {},
   "source": [
    "## Lists"
   ]
  },
  {
   "cell_type": "markdown",
   "id": "463b163d",
   "metadata": {},
   "source": [
    "A list is a data structure in Python that is a mutable, or changeable, ordered sequence of elements. Each element or value that is inside of a list is called an item. Just as strings are defined as characters between quotes, lists are defined by having values between square brackets [ ]"
   ]
  },
  {
   "cell_type": "code",
   "execution_count": 28,
   "id": "75338bee",
   "metadata": {},
   "outputs": [
    {
     "data": {
      "text/plain": [
       "list"
      ]
     },
     "execution_count": 28,
     "metadata": {},
     "output_type": "execute_result"
    }
   ],
   "source": [
    "type([ ])"
   ]
  },
  {
   "cell_type": "code",
   "execution_count": 29,
   "id": "e0891229",
   "metadata": {},
   "outputs": [],
   "source": [
    "Lis = [] #one way of creating List"
   ]
  },
  {
   "cell_type": "code",
   "execution_count": 30,
   "id": "37b24ad7",
   "metadata": {},
   "outputs": [
    {
     "data": {
      "text/plain": [
       "list"
      ]
     },
     "execution_count": 30,
     "metadata": {},
     "output_type": "execute_result"
    }
   ],
   "source": [
    "type(Lis)"
   ]
  },
  {
   "cell_type": "code",
   "execution_count": 32,
   "id": "87d4bc30",
   "metadata": {},
   "outputs": [],
   "source": [
    "lis = list()#one more way of creating List"
   ]
  },
  {
   "cell_type": "code",
   "execution_count": 33,
   "id": "55e31420",
   "metadata": {},
   "outputs": [
    {
     "data": {
      "text/plain": [
       "list"
      ]
     },
     "execution_count": 33,
     "metadata": {},
     "output_type": "execute_result"
    }
   ],
   "source": [
    "type(lis)"
   ]
  },
  {
   "cell_type": "code",
   "execution_count": 34,
   "id": "5bad823d",
   "metadata": {},
   "outputs": [],
   "source": [
    "lis = ['jay', 'Kasundra',2,8,1,0] ##one more way of creating List"
   ]
  },
  {
   "cell_type": "code",
   "execution_count": 36,
   "id": "729fae97",
   "metadata": {},
   "outputs": [
    {
     "data": {
      "text/plain": [
       "6"
      ]
     },
     "execution_count": 36,
     "metadata": {},
     "output_type": "execute_result"
    }
   ],
   "source": [
    "len(lis)"
   ]
  },
  {
   "cell_type": "code",
   "execution_count": 35,
   "id": "878fd051",
   "metadata": {},
   "outputs": [
    {
     "data": {
      "text/plain": [
       "list"
      ]
     },
     "execution_count": 35,
     "metadata": {},
     "output_type": "execute_result"
    }
   ],
   "source": [
    "type(lis)"
   ]
  },
  {
   "cell_type": "markdown",
   "id": "6e358f2f",
   "metadata": {},
   "source": [
    "## Append"
   ]
  },
  {
   "cell_type": "markdown",
   "id": "83fe7153",
   "metadata": {},
   "source": [
    "append is used to add elements in the list"
   ]
  },
  {
   "cell_type": "code",
   "execution_count": 38,
   "id": "602a1226",
   "metadata": {},
   "outputs": [],
   "source": [
    "lis.append(1998)"
   ]
  },
  {
   "cell_type": "code",
   "execution_count": 39,
   "id": "7abff8ba",
   "metadata": {},
   "outputs": [
    {
     "data": {
      "text/plain": [
       "['jay', 'Kasundra', 2, 8, 1, 0, 1998]"
      ]
     },
     "execution_count": 39,
     "metadata": {},
     "output_type": "execute_result"
    }
   ],
   "source": [
    "lis"
   ]
  },
  {
   "cell_type": "code",
   "execution_count": 40,
   "id": "91afe030",
   "metadata": {},
   "outputs": [
    {
     "ename": "TypeError",
     "evalue": "'list' object is not callable",
     "output_type": "error",
     "traceback": [
      "\u001b[1;31m---------------------------------------------------------------------------\u001b[0m",
      "\u001b[1;31mTypeError\u001b[0m                                 Traceback (most recent call last)",
      "\u001b[1;32m<ipython-input-40-3e9047a0d716>\u001b[0m in \u001b[0;36m<module>\u001b[1;34m\u001b[0m\n\u001b[0;32m      1\u001b[0m \u001b[1;31m#indexing in list\u001b[0m\u001b[1;33m\u001b[0m\u001b[1;33m\u001b[0m\u001b[1;33m\u001b[0m\u001b[0m\n\u001b[1;32m----> 2\u001b[1;33m \u001b[0mlis\u001b[0m\u001b[1;33m(\u001b[0m\u001b[1;36m2\u001b[0m\u001b[1;33m)\u001b[0m\u001b[1;33m\u001b[0m\u001b[1;33m\u001b[0m\u001b[0m\n\u001b[0m",
      "\u001b[1;31mTypeError\u001b[0m: 'list' object is not callable"
     ]
    }
   ],
   "source": [
    "#indexing in list\n",
    "lis(2)"
   ]
  },
  {
   "cell_type": "code",
   "execution_count": 41,
   "id": "0fd02da2",
   "metadata": {},
   "outputs": [
    {
     "data": {
      "text/plain": [
       "'Kasundra'"
      ]
     },
     "execution_count": 41,
     "metadata": {},
     "output_type": "execute_result"
    }
   ],
   "source": [
    "lis[1]"
   ]
  },
  {
   "cell_type": "code",
   "execution_count": 42,
   "id": "1f8a4696",
   "metadata": {},
   "outputs": [
    {
     "data": {
      "text/plain": [
       "['Kasundra', 2, 8, 1]"
      ]
     },
     "execution_count": 42,
     "metadata": {},
     "output_type": "execute_result"
    }
   ],
   "source": [
    "lis[1:5]"
   ]
  },
  {
   "cell_type": "code",
   "execution_count": 43,
   "id": "9d6a0ca1",
   "metadata": {},
   "outputs": [
    {
     "data": {
      "text/plain": [
       "[2, 8, 1, 0, 1998]"
      ]
     },
     "execution_count": 43,
     "metadata": {},
     "output_type": "execute_result"
    }
   ],
   "source": [
    "lis[2:]"
   ]
  },
  {
   "cell_type": "markdown",
   "id": "d339c560",
   "metadata": {},
   "source": [
    "## Insert"
   ]
  },
  {
   "cell_type": "markdown",
   "id": "4dcbb65e",
   "metadata": {},
   "source": [
    "- insert in a specific order"
   ]
  },
  {
   "cell_type": "code",
   "execution_count": 44,
   "id": "4d8ea7ed",
   "metadata": {},
   "outputs": [],
   "source": [
    "lis.insert(1,'Kumar') "
   ]
  },
  {
   "cell_type": "code",
   "execution_count": 45,
   "id": "0dfb8847",
   "metadata": {},
   "outputs": [
    {
     "data": {
      "text/plain": [
       "['jay', 'Kumar', 'Kasundra', 2, 8, 1, 0, 1998]"
      ]
     },
     "execution_count": 45,
     "metadata": {},
     "output_type": "execute_result"
    }
   ],
   "source": [
    "lis"
   ]
  },
  {
   "cell_type": "markdown",
   "id": "7dabd26a",
   "metadata": {},
   "source": [
    "## Extend Method"
   ]
  },
  {
   "cell_type": "code",
   "execution_count": 47,
   "id": "d28bc1a9",
   "metadata": {},
   "outputs": [],
   "source": [
    "lis.append(['pipavav','port'])"
   ]
  },
  {
   "cell_type": "code",
   "execution_count": 48,
   "id": "5f952825",
   "metadata": {},
   "outputs": [
    {
     "data": {
      "text/plain": [
       "['jay', 'Kumar', 'Kasundra', 2, 8, 1, 0, 1998, ['pipavav', 'port']]"
      ]
     },
     "execution_count": 48,
     "metadata": {},
     "output_type": "execute_result"
    }
   ],
   "source": [
    "lis"
   ]
  },
  {
   "cell_type": "code",
   "execution_count": 49,
   "id": "237c62d7",
   "metadata": {},
   "outputs": [],
   "source": [
    "lis = ['jay', 'Kumar', 'Kasundra', 2, 8, 1, 0, 1998]"
   ]
  },
  {
   "cell_type": "code",
   "execution_count": 50,
   "id": "dd9bc4ca",
   "metadata": {},
   "outputs": [],
   "source": [
    "lis.extend(['Pipavav', 'Port'])"
   ]
  },
  {
   "cell_type": "code",
   "execution_count": 51,
   "id": "c11a208d",
   "metadata": {},
   "outputs": [
    {
     "data": {
      "text/plain": [
       "['jay', 'Kumar', 'Kasundra', 2, 8, 1, 0, 1998, 'Pipavav', 'Port']"
      ]
     },
     "execution_count": 51,
     "metadata": {},
     "output_type": "execute_result"
    }
   ],
   "source": [
    "lis"
   ]
  },
  {
   "cell_type": "markdown",
   "id": "1e55075d",
   "metadata": {},
   "source": [
    "## Various Operations that we can perform in List"
   ]
  },
  {
   "cell_type": "code",
   "execution_count": 54,
   "id": "36400434",
   "metadata": {},
   "outputs": [],
   "source": [
    "lis = [1,2,3,4,5]"
   ]
  },
  {
   "cell_type": "code",
   "execution_count": 55,
   "id": "94cbd98a",
   "metadata": {},
   "outputs": [
    {
     "data": {
      "text/plain": [
       "15"
      ]
     },
     "execution_count": 55,
     "metadata": {},
     "output_type": "execute_result"
    }
   ],
   "source": [
    "sum(lis)"
   ]
  },
  {
   "cell_type": "code",
   "execution_count": 56,
   "id": "17ac2923",
   "metadata": {},
   "outputs": [
    {
     "data": {
      "text/plain": [
       "[1, 2, 3, 4, 5, 1, 2, 3, 4, 5, 1, 2, 3, 4, 5, 1, 2, 3, 4, 5, 1, 2, 3, 4, 5]"
      ]
     },
     "execution_count": 56,
     "metadata": {},
     "output_type": "execute_result"
    }
   ],
   "source": [
    "lis*5"
   ]
  },
  {
   "cell_type": "markdown",
   "id": "46d5230a",
   "metadata": {},
   "source": [
    "## POP"
   ]
  },
  {
   "cell_type": "code",
   "execution_count": 57,
   "id": "9e04fca4",
   "metadata": {},
   "outputs": [
    {
     "data": {
      "text/plain": [
       "5"
      ]
     },
     "execution_count": 57,
     "metadata": {},
     "output_type": "execute_result"
    }
   ],
   "source": [
    "lis.pop()"
   ]
  },
  {
   "cell_type": "code",
   "execution_count": 58,
   "id": "558138a1",
   "metadata": {},
   "outputs": [
    {
     "data": {
      "text/plain": [
       "[1, 2, 3, 4]"
      ]
     },
     "execution_count": 58,
     "metadata": {},
     "output_type": "execute_result"
    }
   ],
   "source": [
    "lis"
   ]
  },
  {
   "cell_type": "code",
   "execution_count": 59,
   "id": "8add854b",
   "metadata": {},
   "outputs": [
    {
     "data": {
      "text/plain": [
       "2"
      ]
     },
     "execution_count": 59,
     "metadata": {},
     "output_type": "execute_result"
    }
   ],
   "source": [
    "lis.pop(1)"
   ]
  },
  {
   "cell_type": "code",
   "execution_count": 60,
   "id": "99a53283",
   "metadata": {},
   "outputs": [
    {
     "data": {
      "text/plain": [
       "[1, 3, 4]"
      ]
     },
     "execution_count": 60,
     "metadata": {},
     "output_type": "execute_result"
    }
   ],
   "source": [
    "lis"
   ]
  },
  {
   "cell_type": "markdown",
   "id": "e170a942",
   "metadata": {},
   "source": [
    " ## count():Calculates total occurrence of given element of List"
   ]
  },
  {
   "cell_type": "code",
   "execution_count": 63,
   "id": "936d4c07",
   "metadata": {},
   "outputs": [],
   "source": [
    "lis = [1,1,2,2,2,3,3,3,3]"
   ]
  },
  {
   "cell_type": "code",
   "execution_count": 64,
   "id": "639c36a9",
   "metadata": {},
   "outputs": [
    {
     "data": {
      "text/plain": [
       "2"
      ]
     },
     "execution_count": 64,
     "metadata": {},
     "output_type": "execute_result"
    }
   ],
   "source": [
    "lis.count(1)"
   ]
  },
  {
   "cell_type": "code",
   "execution_count": 65,
   "id": "81b27d17",
   "metadata": {},
   "outputs": [
    {
     "data": {
      "text/plain": [
       "4"
      ]
     },
     "execution_count": 65,
     "metadata": {},
     "output_type": "execute_result"
    }
   ],
   "source": [
    "lis.count(3)"
   ]
  },
  {
   "cell_type": "code",
   "execution_count": 66,
   "id": "855508b0",
   "metadata": {},
   "outputs": [
    {
     "data": {
      "text/plain": [
       "2"
      ]
     },
     "execution_count": 66,
     "metadata": {},
     "output_type": "execute_result"
    }
   ],
   "source": [
    "lis.index(2)"
   ]
  },
  {
   "cell_type": "code",
   "execution_count": 70,
   "id": "0e9c3dd5",
   "metadata": {},
   "outputs": [
    {
     "data": {
      "text/plain": [
       "1"
      ]
     },
     "execution_count": 70,
     "metadata": {},
     "output_type": "execute_result"
    }
   ],
   "source": [
    "lis.index(1,1,3)"
   ]
  },
  {
   "cell_type": "code",
   "execution_count": 71,
   "id": "cdd32cb0",
   "metadata": {},
   "outputs": [
    {
     "data": {
      "text/plain": [
       "1"
      ]
     },
     "execution_count": 71,
     "metadata": {},
     "output_type": "execute_result"
    }
   ],
   "source": [
    "min(lis)"
   ]
  },
  {
   "cell_type": "code",
   "execution_count": 72,
   "id": "3be0d29f",
   "metadata": {},
   "outputs": [
    {
     "data": {
      "text/plain": [
       "3"
      ]
     },
     "execution_count": 72,
     "metadata": {},
     "output_type": "execute_result"
    }
   ],
   "source": [
    "max(lis)"
   ]
  },
  {
   "cell_type": "markdown",
   "id": "db512c44",
   "metadata": {},
   "source": [
    "## SETS"
   ]
  },
  {
   "cell_type": "markdown",
   "id": "5db27147",
   "metadata": {},
   "source": [
    "A Set is an unordered collection data type that is iterable, mutable, and has no duplicate elements. Python's set class represents the mathematical notion of a set.This is based on a data structure known as a hash table"
   ]
  },
  {
   "cell_type": "code",
   "execution_count": 1,
   "id": "3429c893",
   "metadata": {},
   "outputs": [],
   "source": [
    "set_v = set()"
   ]
  },
  {
   "cell_type": "code",
   "execution_count": 2,
   "id": "84b62e94",
   "metadata": {},
   "outputs": [
    {
     "name": "stdout",
     "output_type": "stream",
     "text": [
      "set()\n"
     ]
    }
   ],
   "source": [
    "print(set_v)"
   ]
  },
  {
   "cell_type": "code",
   "execution_count": 3,
   "id": "c325a885",
   "metadata": {},
   "outputs": [
    {
     "name": "stdout",
     "output_type": "stream",
     "text": [
      "<class 'set'>\n"
     ]
    }
   ],
   "source": [
    "print(type(set_v))"
   ]
  },
  {
   "cell_type": "code",
   "execution_count": 4,
   "id": "844d9b87",
   "metadata": {},
   "outputs": [],
   "source": [
    "set = {1,2,3,4,3}"
   ]
  },
  {
   "cell_type": "code",
   "execution_count": 5,
   "id": "71cec0a4",
   "metadata": {},
   "outputs": [
    {
     "data": {
      "text/plain": [
       "{1, 2, 3, 4}"
      ]
     },
     "execution_count": 5,
     "metadata": {},
     "output_type": "execute_result"
    }
   ],
   "source": [
    "set"
   ]
  },
  {
   "cell_type": "code",
   "execution_count": 6,
   "id": "37a8c9d8",
   "metadata": {},
   "outputs": [],
   "source": [
    "set = {\"jay\",\"Mansukhbhai\",\"Kasundra\"}"
   ]
  },
  {
   "cell_type": "code",
   "execution_count": 7,
   "id": "1ae38eee",
   "metadata": {},
   "outputs": [
    {
     "name": "stdout",
     "output_type": "stream",
     "text": [
      "{'jay', 'Mansukhbhai', 'Kasundra'}\n"
     ]
    }
   ],
   "source": [
    "print(set)"
   ]
  },
  {
   "cell_type": "markdown",
   "id": "b8d18a9f",
   "metadata": {},
   "source": [
    "## Inbuilt functions"
   ]
  },
  {
   "cell_type": "code",
   "execution_count": 8,
   "id": "ba696928",
   "metadata": {},
   "outputs": [],
   "source": [
    "set.add(\"Kumar\")"
   ]
  },
  {
   "cell_type": "code",
   "execution_count": 9,
   "id": "fc95b3bb",
   "metadata": {},
   "outputs": [
    {
     "data": {
      "text/plain": [
       "{'Kasundra', 'Kumar', 'Mansukhbhai', 'jay'}"
      ]
     },
     "execution_count": 9,
     "metadata": {},
     "output_type": "execute_result"
    }
   ],
   "source": [
    "set"
   ]
  },
  {
   "cell_type": "code",
   "execution_count": 10,
   "id": "4f2c4d65",
   "metadata": {},
   "outputs": [
    {
     "name": "stdout",
     "output_type": "stream",
     "text": [
      "{'Kumar', 'jay', 'Mansukhbhai', 'Kasundra'}\n"
     ]
    }
   ],
   "source": [
    "print(set)"
   ]
  },
  {
   "cell_type": "code",
   "execution_count": 11,
   "id": "6ef1738a",
   "metadata": {},
   "outputs": [],
   "source": [
    "set1 = {\"Jay\",\"Kasundra\", \"Mansukhbhai\"}"
   ]
  },
  {
   "cell_type": "code",
   "execution_count": 14,
   "id": "2f8b41ca",
   "metadata": {},
   "outputs": [],
   "source": [
    "set2 = {\"Jay\",\"Kumar\", \"Kasundra\", \"Mansukhbhai\"}"
   ]
  },
  {
   "cell_type": "code",
   "execution_count": 15,
   "id": "630d5b8d",
   "metadata": {},
   "outputs": [
    {
     "data": {
      "text/plain": [
       "{'Kumar'}"
      ]
     },
     "execution_count": 15,
     "metadata": {},
     "output_type": "execute_result"
    }
   ],
   "source": [
    "set2.difference(set1)"
   ]
  },
  {
   "cell_type": "code",
   "execution_count": 16,
   "id": "397958cf",
   "metadata": {},
   "outputs": [
    {
     "data": {
      "text/plain": [
       "{'Jay', 'Kasundra', 'Mansukhbhai'}"
      ]
     },
     "execution_count": 16,
     "metadata": {},
     "output_type": "execute_result"
    }
   ],
   "source": [
    "set2.intersection(set1)"
   ]
  },
  {
   "cell_type": "code",
   "execution_count": 17,
   "id": "511fffb6",
   "metadata": {},
   "outputs": [
    {
     "data": {
      "text/plain": [
       "False"
      ]
     },
     "execution_count": 17,
     "metadata": {},
     "output_type": "execute_result"
    }
   ],
   "source": [
    "set2.issubset(set1)"
   ]
  },
  {
   "cell_type": "code",
   "execution_count": 18,
   "id": "333f8fbd",
   "metadata": {},
   "outputs": [],
   "source": [
    "set2.discard(set1)"
   ]
  },
  {
   "cell_type": "code",
   "execution_count": 19,
   "id": "b99dc86b",
   "metadata": {},
   "outputs": [
    {
     "data": {
      "text/plain": [
       "{'Jay', 'Kasundra', 'Kumar', 'Mansukhbhai'}"
      ]
     },
     "execution_count": 19,
     "metadata": {},
     "output_type": "execute_result"
    }
   ],
   "source": [
    "set2"
   ]
  },
  {
   "cell_type": "code",
   "execution_count": 20,
   "id": "18b25b77",
   "metadata": {},
   "outputs": [
    {
     "data": {
      "text/plain": [
       "{'Jay', 'Kasundra', 'Mansukhbhai'}"
      ]
     },
     "execution_count": 20,
     "metadata": {},
     "output_type": "execute_result"
    }
   ],
   "source": [
    "set1"
   ]
  },
  {
   "cell_type": "code",
   "execution_count": 21,
   "id": "49f473aa",
   "metadata": {},
   "outputs": [],
   "source": [
    "set2.discard(\"Kumar\")"
   ]
  },
  {
   "cell_type": "code",
   "execution_count": 22,
   "id": "c0bca128",
   "metadata": {},
   "outputs": [
    {
     "data": {
      "text/plain": [
       "{'Jay', 'Kasundra', 'Mansukhbhai'}"
      ]
     },
     "execution_count": 22,
     "metadata": {},
     "output_type": "execute_result"
    }
   ],
   "source": [
    "set2"
   ]
  },
  {
   "cell_type": "markdown",
   "id": "80ddc6ea",
   "metadata": {},
   "source": [
    "## Dictionary"
   ]
  },
  {
   "cell_type": "markdown",
   "id": "84a0718c",
   "metadata": {},
   "source": [
    "A dictionary is a collection which is unordered, changeable and indexed. In Python dictionaries are written with curly brackets, and they have keys and values.\n",
    "\n"
   ]
  },
  {
   "cell_type": "code",
   "execution_count": 23,
   "id": "8d76751d",
   "metadata": {},
   "outputs": [],
   "source": [
    "dic = {}"
   ]
  },
  {
   "cell_type": "code",
   "execution_count": 24,
   "id": "dd1197cc",
   "metadata": {},
   "outputs": [
    {
     "data": {
      "text/plain": [
       "dict"
      ]
     },
     "execution_count": 24,
     "metadata": {},
     "output_type": "execute_result"
    }
   ],
   "source": [
    "type(dic)"
   ]
  },
  {
   "cell_type": "code",
   "execution_count": 25,
   "id": "b578ca58",
   "metadata": {},
   "outputs": [
    {
     "data": {
      "text/plain": [
       "dict"
      ]
     },
     "execution_count": 25,
     "metadata": {},
     "output_type": "execute_result"
    }
   ],
   "source": [
    "type(dict()) #creating a empty dictionary"
   ]
  },
  {
   "cell_type": "code",
   "execution_count": 26,
   "id": "b6125e63",
   "metadata": {},
   "outputs": [],
   "source": [
    "dic = {1,3,4,5}"
   ]
  },
  {
   "cell_type": "code",
   "execution_count": 27,
   "id": "635cb85f",
   "metadata": {},
   "outputs": [
    {
     "data": {
      "text/plain": [
       "set"
      ]
     },
     "execution_count": 27,
     "metadata": {},
     "output_type": "execute_result"
    }
   ],
   "source": [
    "type(dic)"
   ]
  },
  {
   "cell_type": "code",
   "execution_count": 28,
   "id": "7907c23c",
   "metadata": {},
   "outputs": [],
   "source": [
    "dic = {\"car1\" : \"Audi\", \"car2\" : \"BMW\", \"car3\" : \"Mercedes\"}"
   ]
  },
  {
   "cell_type": "code",
   "execution_count": 29,
   "id": "eebc3b0c",
   "metadata": {},
   "outputs": [
    {
     "data": {
      "text/plain": [
       "'Audi'"
      ]
     },
     "execution_count": 29,
     "metadata": {},
     "output_type": "execute_result"
    }
   ],
   "source": [
    "dic[\"car1\"]"
   ]
  },
  {
   "cell_type": "code",
   "execution_count": 33,
   "id": "780385d8",
   "metadata": {},
   "outputs": [
    {
     "name": "stdout",
     "output_type": "stream",
     "text": [
      "car1\n",
      "car2\n",
      "car3\n"
     ]
    }
   ],
   "source": [
    "for x in dic:\n",
    "    print(x)"
   ]
  },
  {
   "cell_type": "code",
   "execution_count": 34,
   "id": "b94923ed",
   "metadata": {},
   "outputs": [
    {
     "ename": "SyntaxError",
     "evalue": "unexpected EOF while parsing (<ipython-input-34-e844df4bd0ea>, line 1)",
     "output_type": "error",
     "traceback": [
      "\u001b[1;36m  File \u001b[1;32m\"<ipython-input-34-e844df4bd0ea>\"\u001b[1;36m, line \u001b[1;32m1\u001b[0m\n\u001b[1;33m    for x in dic.values:\u001b[0m\n\u001b[1;37m                        ^\u001b[0m\n\u001b[1;31mSyntaxError\u001b[0m\u001b[1;31m:\u001b[0m unexpected EOF while parsing\n"
     ]
    }
   ],
   "source": [
    "for x in dic.values:"
   ]
  },
  {
   "cell_type": "code",
   "execution_count": 36,
   "id": "af15042f",
   "metadata": {},
   "outputs": [
    {
     "name": "stdout",
     "output_type": "stream",
     "text": [
      "Audi\n",
      "BMW\n",
      "Mercedes\n"
     ]
    }
   ],
   "source": [
    "for x in dic.values():\n",
    "    print(x)"
   ]
  },
  {
   "cell_type": "code",
   "execution_count": 38,
   "id": "dd77ad24",
   "metadata": {},
   "outputs": [
    {
     "name": "stdout",
     "output_type": "stream",
     "text": [
      "('car1', 'Audi')\n",
      "('car2', 'BMW')\n",
      "('car3', 'Mercedes')\n"
     ]
    }
   ],
   "source": [
    "for x in dic.items():\n",
    "    print(x)"
   ]
  },
  {
   "cell_type": "code",
   "execution_count": 40,
   "id": "47ca1866",
   "metadata": {},
   "outputs": [],
   "source": [
    "dic['car4']= 'Maruti'"
   ]
  },
  {
   "cell_type": "code",
   "execution_count": 41,
   "id": "200fa646",
   "metadata": {},
   "outputs": [
    {
     "data": {
      "text/plain": [
       "{'car1': 'Audi', 'car2': 'BMW', 'car3': 'Mercedes', 'car4': 'Maruti'}"
      ]
     },
     "execution_count": 41,
     "metadata": {},
     "output_type": "execute_result"
    }
   ],
   "source": [
    "dic"
   ]
  },
  {
   "cell_type": "code",
   "execution_count": 42,
   "id": "eac7162c",
   "metadata": {},
   "outputs": [],
   "source": [
    "dic['car1'] = 'ford'"
   ]
  },
  {
   "cell_type": "code",
   "execution_count": 43,
   "id": "eaf24990",
   "metadata": {},
   "outputs": [
    {
     "data": {
      "text/plain": [
       "{'car1': 'ford', 'car2': 'BMW', 'car3': 'Mercedes', 'car4': 'Maruti'}"
      ]
     },
     "execution_count": 43,
     "metadata": {},
     "output_type": "execute_result"
    }
   ],
   "source": [
    "dic"
   ]
  },
  {
   "cell_type": "code",
   "execution_count": 45,
   "id": "ae0ac013",
   "metadata": {},
   "outputs": [],
   "source": [
    "dic1 = {'Audi' : '1950'}\n",
    "dic2 = {'BMW': '1965'}\n",
    "dic3 = {'Mercedes': '2000'}\n"
   ]
  },
  {
   "cell_type": "code",
   "execution_count": 46,
   "id": "7c5b7a40",
   "metadata": {},
   "outputs": [],
   "source": [
    "dic = {'car1': dic1, 'car2': dic2, 'car3': dic3}"
   ]
  },
  {
   "cell_type": "code",
   "execution_count": 47,
   "id": "495980c5",
   "metadata": {},
   "outputs": [
    {
     "name": "stdout",
     "output_type": "stream",
     "text": [
      "{'car1': {'Audi': '1950'}, 'car2': {'BMW': '1965'}, 'car3': {'Mercedes': '2000'}}\n"
     ]
    }
   ],
   "source": [
    "print(dic)"
   ]
  },
  {
   "cell_type": "code",
   "execution_count": 48,
   "id": "b2979d80",
   "metadata": {},
   "outputs": [
    {
     "name": "stdout",
     "output_type": "stream",
     "text": [
      "{'BMW': '1965'}\n"
     ]
    }
   ],
   "source": [
    "print(dic['car2'])"
   ]
  },
  {
   "cell_type": "code",
   "execution_count": 50,
   "id": "c5d4fdb6",
   "metadata": {},
   "outputs": [
    {
     "name": "stdout",
     "output_type": "stream",
     "text": [
      "1965\n"
     ]
    }
   ],
   "source": [
    "print(dic['car2']['BMW'])"
   ]
  },
  {
   "cell_type": "markdown",
   "id": "a41e5e0b",
   "metadata": {},
   "source": [
    "## Tuples"
   ]
  },
  {
   "cell_type": "code",
   "execution_count": 51,
   "id": "2ae512b9",
   "metadata": {},
   "outputs": [],
   "source": [
    "tuple = tuple() #1"
   ]
  },
  {
   "cell_type": "code",
   "execution_count": 52,
   "id": "f8e69649",
   "metadata": {},
   "outputs": [
    {
     "data": {
      "text/plain": [
       "tuple"
      ]
     },
     "execution_count": 52,
     "metadata": {},
     "output_type": "execute_result"
    }
   ],
   "source": [
    "type(tuple)"
   ]
  },
  {
   "cell_type": "code",
   "execution_count": 53,
   "id": "d2fb2e19",
   "metadata": {},
   "outputs": [],
   "source": [
    "tuple1 = () #2"
   ]
  },
  {
   "cell_type": "code",
   "execution_count": 54,
   "id": "129c26d9",
   "metadata": {},
   "outputs": [
    {
     "data": {
      "text/plain": [
       "tuple"
      ]
     },
     "execution_count": 54,
     "metadata": {},
     "output_type": "execute_result"
    }
   ],
   "source": [
    "type(tuple1)"
   ]
  },
  {
   "cell_type": "code",
   "execution_count": 57,
   "id": "9a160f2a",
   "metadata": {},
   "outputs": [],
   "source": [
    "tuple1 = ('Jay', 'Kasundra', 'Kumar')"
   ]
  },
  {
   "cell_type": "code",
   "execution_count": 59,
   "id": "4bedc2fc",
   "metadata": {},
   "outputs": [
    {
     "data": {
      "text/plain": [
       "'Jay'"
      ]
     },
     "execution_count": 59,
     "metadata": {},
     "output_type": "execute_result"
    }
   ],
   "source": [
    "tuple1[0]"
   ]
  },
  {
   "cell_type": "code",
   "execution_count": 60,
   "id": "3072fc6c",
   "metadata": {},
   "outputs": [
    {
     "ename": "TypeError",
     "evalue": "'tuple' object does not support item assignment",
     "output_type": "error",
     "traceback": [
      "\u001b[1;31m---------------------------------------------------------------------------\u001b[0m",
      "\u001b[1;31mTypeError\u001b[0m                                 Traceback (most recent call last)",
      "\u001b[1;32m<ipython-input-60-9de230d6b447>\u001b[0m in \u001b[0;36m<module>\u001b[1;34m\u001b[0m\n\u001b[1;32m----> 1\u001b[1;33m \u001b[0mtuple1\u001b[0m\u001b[1;33m[\u001b[0m\u001b[1;36m0\u001b[0m\u001b[1;33m]\u001b[0m \u001b[1;33m=\u001b[0m \u001b[1;34m'joy'\u001b[0m\u001b[1;33m\u001b[0m\u001b[1;33m\u001b[0m\u001b[0m\n\u001b[0m",
      "\u001b[1;31mTypeError\u001b[0m: 'tuple' object does not support item assignment"
     ]
    }
   ],
   "source": [
    "tuple1[0] = 'joy'"
   ]
  },
  {
   "cell_type": "code",
   "execution_count": 61,
   "id": "48e6533c",
   "metadata": {},
   "outputs": [],
   "source": [
    "tuple1= ('Joy', \"Kasundra\")"
   ]
  },
  {
   "cell_type": "code",
   "execution_count": 62,
   "id": "e11f7468",
   "metadata": {},
   "outputs": [
    {
     "data": {
      "text/plain": [
       "('Joy', 'Kasundra')"
      ]
     },
     "execution_count": 62,
     "metadata": {},
     "output_type": "execute_result"
    }
   ],
   "source": [
    "tuple1"
   ]
  },
  {
   "cell_type": "code",
   "execution_count": 64,
   "id": "6798c259",
   "metadata": {},
   "outputs": [
    {
     "data": {
      "text/plain": [
       "1"
      ]
     },
     "execution_count": 64,
     "metadata": {},
     "output_type": "execute_result"
    }
   ],
   "source": [
    "tuple1.count('Joy')"
   ]
  },
  {
   "cell_type": "code",
   "execution_count": 65,
   "id": "c702ea75",
   "metadata": {},
   "outputs": [
    {
     "data": {
      "text/plain": [
       "1"
      ]
     },
     "execution_count": 65,
     "metadata": {},
     "output_type": "execute_result"
    }
   ],
   "source": [
    "tuple1.index('Kasundra')"
   ]
  },
  {
   "cell_type": "code",
   "execution_count": null,
   "id": "2b763075",
   "metadata": {},
   "outputs": [],
   "source": []
  }
 ],
 "metadata": {
  "kernelspec": {
   "display_name": "Python 3",
   "language": "python",
   "name": "python3"
  },
  "language_info": {
   "codemirror_mode": {
    "name": "ipython",
    "version": 3
   },
   "file_extension": ".py",
   "mimetype": "text/x-python",
   "name": "python",
   "nbconvert_exporter": "python",
   "pygments_lexer": "ipython3",
   "version": "3.8.8"
  }
 },
 "nbformat": 4,
 "nbformat_minor": 5
}
